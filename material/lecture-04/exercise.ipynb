{
 "cells": [
  {
   "cell_type": "markdown",
   "metadata": {},
   "source": [
    "# Exercise 4\n",
    "\n",
    "Work on this before the next lecture on 26 April. We will talk about questions, comments, and solutions during the exercise after the third lecture.\n",
    "\n",
    "Please do form study groups! When you do, make sure you can explain everything in your own words, do not simply copy&paste from others.\n",
    "\n",
    "The solutions to a lot of these problems can probably be found with Google. Please don't. You will not learn a lot by copy&pasting from the internet.\n",
    "\n",
    "If you want to get credit/examination on this course please upload your work to your GitHub repository for this course before the next lecture starts and post a link to your repository in [this thread](https://github.com/wildtreetech/advanced-computing-2018/issues/8). If you worked on things together with others please add their names to the notebook so we can see who formed groups.\n",
    "\n",
    "The overall idea of this exercise is to get you using and building convolutional neural networks."
   ]
  },
  {
   "cell_type": "code",
   "execution_count": 1,
   "metadata": {},
   "outputs": [
    {
     "name": "stderr",
     "output_type": "stream",
     "text": [
      "/home/alispach/.anaconda3/envs/adv-comp-18/lib/python3.6/site-packages/h5py/__init__.py:36: FutureWarning: Conversion of the second argument of issubdtype from `float` to `np.floating` is deprecated. In future, it will be treated as `np.float64 == np.dtype(float).type`.\n",
      "  from ._conv import register_converters as _register_converters\n",
      "Using TensorFlow backend.\n"
     ]
    }
   ],
   "source": [
    "import numpy as np\n",
    "import matplotlib.pyplot as plt\n",
    "from sklearn.model_selection import train_test_split\n",
    "from keras import utils\n",
    "\n",
    "%matplotlib inline"
   ]
  },
  {
   "cell_type": "markdown",
   "metadata": {},
   "source": [
    "## Question 1\n",
    "\n",
    "In the last exercise you built a neural network that can classify fashion items using only densely connected layers.\n",
    "\n",
    "Build on this by using convolutions, pooling, dropout, batch norm, etc in your neural network. Can you outperform your densely connected network?\n",
    "\n",
    "Start with a small network and a fraction of the data to check if you hooked everything up correctly. Don't go overboard with the size of the network either as even small networks take quite a while to train.\n",
    "\n",
    "(If you want to experiment with a free GPU checkout https://kaggle.com/kernels .)"
   ]
  },
  {
   "cell_type": "code",
   "execution_count": 6,
   "metadata": {},
   "outputs": [
    {
     "name": "stdout",
     "output_type": "stream",
     "text": [
      "Training data shape: (60000, 28, 28, 1)\n",
      "Training labels shape: (60000, 10)\n",
      "Testing data shape: (10000, 28, 28, 1)\n",
      "Testing labels shape: (10000, 10)\n"
     ]
    }
   ],
   "source": [
    "# Fashion MNIST is built into keras\n",
    "from keras.datasets import fashion_mnist\n",
    "(X_train, y_train), (X_test, y_test) = fashion_mnist.load_data()\n",
    "\n",
    "X_train = X_train.astype('float32')\n",
    "X_test = X_test.astype('float32')\n",
    "X_train /= 255\n",
    "X_test /= 255\n",
    "\n",
    "X_train = np.expand_dims(X_train, axis=-1)\n",
    "X_test = np.expand_dims(X_test, axis=-1)\n",
    "\n",
    "num_classes = 10\n",
    "y_train = utils.to_categorical(y_train, num_classes)\n",
    "y_test = utils.to_categorical(y_test, num_classes)\n",
    "\n",
    "print(\"Training data shape:\", X_train.shape)\n",
    "print(\"Training labels shape:\", y_train.shape)\n",
    "print(\"Testing data shape:\", X_test.shape)\n",
    "print(\"Testing labels shape:\", y_test.shape)"
   ]
  },
  {
   "cell_type": "code",
   "execution_count": 36,
   "metadata": {},
   "outputs": [],
   "source": [
    "def plot_example(name, X, y):\n",
    "    \n",
    "    X = X.reshape(X.shape[:-1])\n",
    "    \n",
    "    names = ['T-shirt/top', 'Trouser', 'Pullover', 'Dress', 'Coat', 'Sandal', 'Shirt', 'Sneaker', 'Bag', 'Ankle boot']\n",
    "    label = names.index(name)\n",
    "    c = np.zeros(len(names))\n",
    "    c[label] = 1\n",
    "    \n",
    "    print(label)\n",
    "    where = np.where(y == label)[0]\n",
    "    number = np.random.randint(0, len(where) - 1)\n",
    "    number = where[number]\n",
    "    \n",
    "    plt.figure()\n",
    "    plt.imshow(X[number], cmap='gray')\n",
    "    plt.title(\"This is a %s\" % name);"
   ]
  },
  {
   "cell_type": "code",
   "execution_count": 37,
   "metadata": {},
   "outputs": [
    {
     "name": "stdout",
     "output_type": "stream",
     "text": [
      "1\n"
     ]
    },
    {
     "data": {
      "image/png": "[encoded data removed]",
      "text/plain": [
       "<Figure size 432x288 with 1 Axes>"
      ]
     },
     "metadata": {},
     "output_type": "display_data"
    }
   ],
   "source": [
    "plot_example('Trouser', X_train, y_train)"
   ]
  },
  {
   "cell_type": "code",
   "execution_count": 38,
   "metadata": {},
   "outputs": [],
   "source": [
    "from keras.models import Model\n",
    "from keras.layers import Input, Dense, Activation, Flatten, Dropout, BatchNormalization\n",
    "from keras.layers.convolutional import Convolution2D, MaxPooling2D"
   ]
  },
  {
   "cell_type": "code",
   "execution_count": 41,
   "metadata": {},
   "outputs": [],
   "source": [
    "input_layer = Input(shape=(28, 28, 1))\n",
    "\n",
    "x = Convolution2D(5, (8, 8), activation='relu', padding='same')(input_layer)\n",
    "x = Convolution2D(5, (8, 8), activation='relu', padding='same')(x)\n",
    "x = MaxPooling2D((2,2), strides=(2,2))(x)\n",
    "\n",
    "x = Convolution2D(10, (4, 4), activation='relu', padding='same')(x)\n",
    "x = Convolution2D(10, (4, 4), activation='relu', padding='same')(x)\n",
    "x = MaxPooling2D((2,2), strides=(2,2))(x)\n",
    "\n",
    "x = Convolution2D(20, (2, 2), activation='relu', padding='same')(x)\n",
    "x = Convolution2D(20, (2, 2), activation='relu', padding='same')(x)\n",
    "\n",
    "x = Flatten()(x)\n",
    "# we want to predict one of ten classes\n",
    "# x = Dense(200, activation='relu')(x)\n",
    "# x = Dropout(0.5)(x)\n",
    "x = Dropout(0.5)(x)\n",
    "x = Dense(20, activation='relu')(x)\n",
    "y = Dense(10, activation='softmax')(x)\n",
    "\n",
    "# Package it all up in a Model\n",
    "net = Model(input_layer, y)\n",
    "net.compile(loss='categorical_crossentropy',\n",
    "            optimizer='sgd',\n",
    "            metrics=['categorical_accuracy'])"
   ]
  },
  {
   "cell_type": "code",
   "execution_count": null,
   "metadata": {},
   "outputs": [
    {
     "name": "stdout",
     "output_type": "stream",
     "text": [
      "Train on 60000 samples, validate on 10000 samples\n",
      "Epoch 1/20\n",
      "60000/60000 [==============================] - 108s 2ms/step - loss: 2.3013 - categorical_accuracy: 0.1058 - val_loss: 2.2996 - val_categorical_accuracy: 0.1284\n",
      "Epoch 2/20\n",
      "60000/60000 [==============================] - 111s 2ms/step - loss: 2.2991 - categorical_accuracy: 0.1240 - val_loss: 2.2970 - val_categorical_accuracy: 0.1665\n",
      "Epoch 3/20\n",
      "60000/60000 [==============================] - 110s 2ms/step - loss: 2.2963 - categorical_accuracy: 0.1367 - val_loss: 2.2934 - val_categorical_accuracy: 0.1931\n",
      "Epoch 4/20\n",
      "60000/60000 [==============================] - 120s 2ms/step - loss: 2.2927 - categorical_accuracy: 0.1529 - val_loss: 2.2881 - val_categorical_accuracy: 0.1984\n",
      "Epoch 5/20\n",
      "60000/60000 [==============================] - 163s 3ms/step - loss: 2.2867 - categorical_accuracy: 0.1651 - val_loss: 2.2785 - val_categorical_accuracy: 0.1982\n",
      "Epoch 6/20\n",
      "60000/60000 [==============================] - 132s 2ms/step - loss: 2.2738 - categorical_accuracy: 0.1750 - val_loss: 2.2535 - val_categorical_accuracy: 0.1972\n",
      "Epoch 7/20\n",
      "60000/60000 [==============================] - 112s 2ms/step - loss: 2.2262 - categorical_accuracy: 0.1861 - val_loss: 2.1374 - val_categorical_accuracy: 0.1971\n",
      "Epoch 8/20\n",
      "60000/60000 [==============================] - 111s 2ms/step - loss: 2.0327 - categorical_accuracy: 0.2443 - val_loss: 1.7448 - val_categorical_accuracy: 0.3994\n",
      "Epoch 9/20\n",
      "60000/60000 [==============================] - 111s 2ms/step - loss: 1.6630 - categorical_accuracy: 0.3813 - val_loss: 1.3136 - val_categorical_accuracy: 0.5278\n",
      "Epoch 10/20\n",
      "60000/60000 [==============================] - 111s 2ms/step - loss: 1.3231 - categorical_accuracy: 0.4966 - val_loss: 1.0030 - val_categorical_accuracy: 0.6412\n",
      "Epoch 11/20\n",
      "60000/60000 [==============================] - 124s 2ms/step - loss: 1.1153 - categorical_accuracy: 0.5705 - val_loss: 0.9270 - val_categorical_accuracy: 0.6349\n",
      "Epoch 12/20\n",
      "60000/60000 [==============================] - 118s 2ms/step - loss: 1.0048 - categorical_accuracy: 0.6138 - val_loss: 0.8495 - val_categorical_accuracy: 0.6725\n",
      "Epoch 13/20\n",
      "60000/60000 [==============================] - 116s 2ms/step - loss: 0.9710 - categorical_accuracy: 0.6283 - val_loss: 0.8264 - val_categorical_accuracy: 0.6886\n",
      "Epoch 14/20\n",
      "60000/60000 [==============================] - 118s 2ms/step - loss: 0.9049 - categorical_accuracy: 0.6556 - val_loss: 0.8414 - val_categorical_accuracy: 0.6718\n",
      "Epoch 15/20\n",
      "60000/60000 [==============================] - 121s 2ms/step - loss: 0.8768 - categorical_accuracy: 0.6679 - val_loss: 0.7700 - val_categorical_accuracy: 0.7138\n",
      "Epoch 16/20\n",
      "60000/60000 [==============================] - 113s 2ms/step - loss: 0.8547 - categorical_accuracy: 0.6763 - val_loss: 0.7542 - val_categorical_accuracy: 0.7190\n",
      "Epoch 17/20\n",
      "60000/60000 [==============================] - 113s 2ms/step - loss: 0.8219 - categorical_accuracy: 0.6904 - val_loss: 0.7316 - val_categorical_accuracy: 0.7259\n",
      "Epoch 18/20\n",
      "60000/60000 [==============================] - 122s 2ms/step - loss: 0.8148 - categorical_accuracy: 0.6929 - val_loss: 0.7118 - val_categorical_accuracy: 0.7358\n",
      "Epoch 19/20\n",
      "27000/60000 [============>.................] - ETA: 1:02 - loss: 0.7888 - categorical_accuracy: 0.7023"
     ]
    }
   ],
   "source": [
    "n_samples = 60000\n",
    "batch_size = 1000 # n_samples // 10 \n",
    "history = net.fit(X_train[:n_samples], y_train[:n_samples],\n",
    "                  batch_size=batch_size,\n",
    "                  epochs=20,\n",
    "                  verbose=1,\n",
    "                  validation_data=(X_test, y_test))"
   ]
  },
  {
   "cell_type": "code",
   "execution_count": null,
   "metadata": {},
   "outputs": [],
   "source": [
    "def plot_history(history):\n",
    "\n",
    "    epoch = history.epoch\n",
    "    metrics = history.history\n",
    "\n",
    "    plt.figure()\n",
    "    plt.plot(epoch, metrics['loss'], label='train loss')\n",
    "    plt.plot(epoch, metrics['val_loss'], label='test loss')\n",
    "    plt.xlabel('epoch')\n",
    "    plt.ylabel('categorical_crossentropy')\n",
    "    plt.legend()\n",
    "\n",
    "    plt.figure()\n",
    "    plt.plot(epoch, metrics['categorical_accuracy'], label='train accuracy')\n",
    "    plt.plot(epoch, metrics['val_categorical_accuracy'], label='test accuracy')\n",
    "    plt.xlabel('epoch')\n",
    "    plt.ylabel('categorical_accuracy')\n",
    "    plt.legend()"
   ]
  },
  {
   "cell_type": "code",
   "execution_count": null,
   "metadata": {},
   "outputs": [],
   "source": [
    "plot_history(history)"
   ]
  },
  {
   "cell_type": "markdown",
   "metadata": {},
   "source": [
    "## Question 2\n",
    "\n",
    "For most real world applications we do not have enough labelled images to train a large neural network from scratch. Instead we can use a pre-trained network as a feature transformer and train a smaller model (or even just a logistic regression) on the output of the pre-trained network.\n",
    "\n",
    "There are several pretrained networks available as part of keras: https://keras.io/applications/. The documentation usually gives some information or links about each network.\n",
    "\n",
    "The documentation also contains snippets on how to use a pre-trained network as feature transformer (\"Extract features with VGG16\"). You should be able to generalise from that example using VGG16 to approximately any of the networks available there.\n",
    "\n",
    "One important thing to not forget is that you need to preprocess your images before feeding them into a pretrained network. Keras provides the functions to do that as well, use them :) You might also need to resize your images first.\n",
    "\n",
    "The task for this question is to build a classifier that can tell road bikes from mountain bikes. Start with using a pre-trained network as feature transformer and logistic regression as classifier on the output of the pretrained network. Once this works you can experiment with extracting features from earlier layers of the pre-trained network, compare your performance to a small network trained from scratch, try to beat your neural net by extracting features by hand and feeding them to a random forest, increasing your dataset size by [augmenting the data](https://keras.io/preprocessing/image/), etc.\n",
    "\n",
    "The dataset containing about 100 labelled images for each road and mountain bikes is here: https://github.com/wildtreetech/advanced-computing-2018/blob/master/data/road-and-mountain-bikes.zip"
   ]
  },
  {
   "cell_type": "code",
   "execution_count": null,
   "metadata": {},
   "outputs": [],
   "source": [
    "from keras import applications\n",
    "from keras.preprocessing import image\n",
    "from keras.applications.vgg16 import preprocess_input\n",
    "import numpy as np\n",
    "\n",
    "\n",
    "# for example load the VGG16 network\n",
    "model = applications.VGG16(include_top=True,\n",
    "                           weights='imagenet')\n",
    "\n",
    "def image_to_array(filename):\n",
    "\n",
    "    img_path = filename\n",
    "    img = image.load_img(img_path, target_size=(224, 224))\n",
    "    x = image.img_to_array(img)\n",
    "    x = np.expand_dims(x, axis=0)\n",
    "    x = preprocess_input(x)\n",
    "\n",
    "    return x\n",
    "\n",
    "def array_to_vgg16output(x):\n",
    "    \n",
    "    features = model.predict(x)\n",
    "    features = features.reshape(features.shape[1:])\n",
    "    return features\n",
    "\n",
    "def create_features():\n",
    "    \n",
    "    paths = ['bikes/mountain_bikes/', 'bikes/road_bikes/']\n",
    "    bike_names = ['mountain_bike', 'road_bike']\n",
    "    X = []\n",
    "    y = []\n",
    "    \n",
    "    n_entries_per_class = 105\n",
    "    \n",
    "    for k, (path, bike_name) in enumerate(zip(paths, bike_names)):\n",
    "        \n",
    "        for i in range(n_entries_per_class):\n",
    "            \n",
    "            filename = path + bike_name + '_{}.jpg'.format(i)\n",
    "            image = image_to_array(filename)\n",
    "            entry = array_to_vgg16output(image)\n",
    "            entry = entry.ravel()\n",
    "            X.append(entry)\n",
    "            y.append(k)\n",
    "        \n",
    "    \n",
    "    X = np.array(X)\n",
    "    y = np.array(y)\n",
    "    \n",
    "    n_entries = len(X)\n",
    "    shuffle_index = np.random.permutation(n_entries)\n",
    "    X = X[shuffle_index]\n",
    "    y = y[shuffle_index]\n",
    "    \n",
    "    return X, y"
   ]
  },
  {
   "cell_type": "code",
   "execution_count": null,
   "metadata": {},
   "outputs": [],
   "source": [
    "X, y = create_features()"
   ]
  },
  {
   "cell_type": "code",
   "execution_count": null,
   "metadata": {},
   "outputs": [],
   "source": [
    "i = 13\n",
    "\n",
    "plt.plot(X[i], label=str(y[i]))\n",
    "plt.legend()"
   ]
  },
  {
   "cell_type": "code",
   "execution_count": null,
   "metadata": {},
   "outputs": [],
   "source": [
    "from sklearn.linear_model import LogisticRegression\n",
    "from sklearn.ensemble import RandomForestClassifier\n",
    "from sklearn.model_selection import train_test_split\n",
    "from sklearn.model_selection import GridSearchCV, RandomizedSearchCV\n",
    "\n",
    "X_train, X_test, y_train, y_test = train_test_split(X, y)"
   ]
  },
  {
   "cell_type": "code",
   "execution_count": null,
   "metadata": {},
   "outputs": [],
   "source": [
    "plt.plot(np.mean(X_train[y_train == 0], axis=0), label='labeled 0')\n",
    "plt.plot(np.mean(X_train[y_train == 1], axis=0), label='labeled 1')\n",
    "plt.ylabel('average feature value')\n",
    "plt.xlabel('feature index')\n",
    "plt.legend()\n",
    "\n",
    "plt.figure()\n",
    "plt.plot(np.std(X_train[y_train == 0], axis=0), label='labeled 0')\n",
    "plt.plot(np.std(X_train[y_train == 1], axis=0), label='labeled 1')\n",
    "plt.ylabel('std feature value')\n",
    "plt.xlabel('feature index')\n",
    "plt.legend()"
   ]
  },
  {
   "cell_type": "code",
   "execution_count": null,
   "metadata": {},
   "outputs": [],
   "source": [
    "classifier = LogisticRegression()\n",
    "classifier.fit(X_train, y_train)\n",
    "print(classifier.score(X_train, y_train))\n",
    "print(classifier.score(X_test, y_test))"
   ]
  },
  {
   "cell_type": "code",
   "execution_count": null,
   "metadata": {},
   "outputs": [],
   "source": [
    "param_grid = {'n_estimators': [50, 100, 200, 300], 'min_samples_split':[2, 3, 4]}\n",
    "grid = GridSearchCV(RandomForestClassifier(), param_grid=param_grid, cv=10)\n",
    "grid.fit(X_train, y_train)"
   ]
  },
  {
   "cell_type": "code",
   "execution_count": null,
   "metadata": {},
   "outputs": [],
   "source": [
    "print(grid.best_score_)\n",
    "print(grid.best_params_)\n",
    "print(grid.score(X_test, y_test))\n",
    "importance = grid.best_estimator_.feature_importances_\n",
    "plt.plot(importance)\n",
    "\n",
    "important_feature = np.where(importance > 3 * np.std(importance))[0]\n",
    "print(important_feature)"
   ]
  },
  {
   "cell_type": "markdown",
   "metadata": {},
   "source": [
    "## Question 3\n",
    "\n",
    "Think about what project you want to do. What makes a good project? It should use some of what you learnt in this class, there should be labelled data available already, and it should be something you are interested in.\n",
    "\n",
    "You will have to write a short report on what you did. To write an interesting report you need to tell a story, not just first I did A, then I did B, then I did X and finally D.\n",
    "\n",
    "It also has to go a bit beyond simply training a classifier or regression model.\n",
    "\n",
    "An example based on the bike images from the previous question:\n",
    "\n",
    "A local bike shop wants to keep an eye on sales of bikes on ebay. They specialise in road bikes so they want to be able to filter out all adverts for mountain bikes. They have found that people writing ebay adverts are not very good at correctly labelling their adverts. Can they use machine-learning to help classify adverts?\n",
    "\n",
    "We investigate labelling adverts based on the image in the advert and study different trade offs in misclassifying bikes. The network was trained on 100 images from a catalog which show bikes on a white background. We compare the performance of the network on the training data and a small set of hand labelled images of bikes in the wild."
   ]
  },
  {
   "cell_type": "code",
   "execution_count": null,
   "metadata": {},
   "outputs": [],
   "source": []
  }
 ],
 "metadata": {
  "kernelspec": {
   "display_name": "Python 3",
   "language": "python",
   "name": "python3"
  },
  "language_info": {
   "codemirror_mode": {
    "name": "ipython",
    "version": 3
   },
   "file_extension": ".py",
   "mimetype": "text/x-python",
   "name": "python",
   "nbconvert_exporter": "python",
   "pygments_lexer": "ipython3",
   "version": "3.6.4"
  }
 },
 "nbformat": 4,
 "nbformat_minor": 2
}
